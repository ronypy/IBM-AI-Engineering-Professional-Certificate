{
    "cells": [
        {
            "cell_type": "code",
            "execution_count": 1,
            "metadata": {},
            "outputs": [],
            "source": "import pandas as pd\nimport numpy as np"
        },
        {
            "cell_type": "code",
            "execution_count": 3,
            "metadata": {},
            "outputs": [
                {
                    "data": {
                        "text/html": "<div>\n<style scoped>\n    .dataframe tbody tr th:only-of-type {\n        vertical-align: middle;\n    }\n\n    .dataframe tbody tr th {\n        vertical-align: top;\n    }\n\n    .dataframe thead th {\n        text-align: right;\n    }\n</style>\n<table border=\"1\" class=\"dataframe\">\n  <thead>\n    <tr style=\"text-align: right;\">\n      <th></th>\n      <th>Cement</th>\n      <th>Blast Furnace Slag</th>\n      <th>Fly Ash</th>\n      <th>Water</th>\n      <th>Superplasticizer</th>\n      <th>Coarse Aggregate</th>\n      <th>Fine Aggregate</th>\n      <th>Age</th>\n      <th>Strength</th>\n    </tr>\n  </thead>\n  <tbody>\n    <tr>\n      <th>0</th>\n      <td>540.0</td>\n      <td>0.0</td>\n      <td>0.0</td>\n      <td>162.0</td>\n      <td>2.5</td>\n      <td>1040.0</td>\n      <td>676.0</td>\n      <td>28</td>\n      <td>79.99</td>\n    </tr>\n    <tr>\n      <th>1</th>\n      <td>540.0</td>\n      <td>0.0</td>\n      <td>0.0</td>\n      <td>162.0</td>\n      <td>2.5</td>\n      <td>1055.0</td>\n      <td>676.0</td>\n      <td>28</td>\n      <td>61.89</td>\n    </tr>\n    <tr>\n      <th>2</th>\n      <td>332.5</td>\n      <td>142.5</td>\n      <td>0.0</td>\n      <td>228.0</td>\n      <td>0.0</td>\n      <td>932.0</td>\n      <td>594.0</td>\n      <td>270</td>\n      <td>40.27</td>\n    </tr>\n    <tr>\n      <th>3</th>\n      <td>332.5</td>\n      <td>142.5</td>\n      <td>0.0</td>\n      <td>228.0</td>\n      <td>0.0</td>\n      <td>932.0</td>\n      <td>594.0</td>\n      <td>365</td>\n      <td>41.05</td>\n    </tr>\n    <tr>\n      <th>4</th>\n      <td>198.6</td>\n      <td>132.4</td>\n      <td>0.0</td>\n      <td>192.0</td>\n      <td>0.0</td>\n      <td>978.4</td>\n      <td>825.5</td>\n      <td>360</td>\n      <td>44.30</td>\n    </tr>\n  </tbody>\n</table>\n</div>",
                        "text/plain": "   Cement  Blast Furnace Slag  Fly Ash  Water  Superplasticizer  \\\n0   540.0                 0.0      0.0  162.0               2.5   \n1   540.0                 0.0      0.0  162.0               2.5   \n2   332.5               142.5      0.0  228.0               0.0   \n3   332.5               142.5      0.0  228.0               0.0   \n4   198.6               132.4      0.0  192.0               0.0   \n\n   Coarse Aggregate  Fine Aggregate  Age  Strength  \n0            1040.0           676.0   28     79.99  \n1            1055.0           676.0   28     61.89  \n2             932.0           594.0  270     40.27  \n3             932.0           594.0  365     41.05  \n4             978.4           825.5  360     44.30  "
                    },
                    "execution_count": 3,
                    "metadata": {},
                    "output_type": "execute_result"
                }
            ],
            "source": "# The code was removed by Watson Studio for sharing."
        },
        {
            "cell_type": "code",
            "execution_count": 4,
            "metadata": {},
            "outputs": [
                {
                    "data": {
                        "text/html": "<div>\n<style scoped>\n    .dataframe tbody tr th:only-of-type {\n        vertical-align: middle;\n    }\n\n    .dataframe tbody tr th {\n        vertical-align: top;\n    }\n\n    .dataframe thead th {\n        text-align: right;\n    }\n</style>\n<table border=\"1\" class=\"dataframe\">\n  <thead>\n    <tr style=\"text-align: right;\">\n      <th></th>\n      <th>Cement</th>\n      <th>Blast Furnace Slag</th>\n      <th>Fly Ash</th>\n      <th>Water</th>\n      <th>Superplasticizer</th>\n      <th>Coarse Aggregate</th>\n      <th>Fine Aggregate</th>\n      <th>Age</th>\n      <th>Strength</th>\n    </tr>\n  </thead>\n  <tbody>\n    <tr>\n      <th>0</th>\n      <td>540.0</td>\n      <td>0.0</td>\n      <td>0.0</td>\n      <td>162.0</td>\n      <td>2.5</td>\n      <td>1040.0</td>\n      <td>676.0</td>\n      <td>28</td>\n      <td>79.99</td>\n    </tr>\n    <tr>\n      <th>1</th>\n      <td>540.0</td>\n      <td>0.0</td>\n      <td>0.0</td>\n      <td>162.0</td>\n      <td>2.5</td>\n      <td>1055.0</td>\n      <td>676.0</td>\n      <td>28</td>\n      <td>61.89</td>\n    </tr>\n    <tr>\n      <th>2</th>\n      <td>332.5</td>\n      <td>142.5</td>\n      <td>0.0</td>\n      <td>228.0</td>\n      <td>0.0</td>\n      <td>932.0</td>\n      <td>594.0</td>\n      <td>270</td>\n      <td>40.27</td>\n    </tr>\n    <tr>\n      <th>3</th>\n      <td>332.5</td>\n      <td>142.5</td>\n      <td>0.0</td>\n      <td>228.0</td>\n      <td>0.0</td>\n      <td>932.0</td>\n      <td>594.0</td>\n      <td>365</td>\n      <td>41.05</td>\n    </tr>\n    <tr>\n      <th>4</th>\n      <td>198.6</td>\n      <td>132.4</td>\n      <td>0.0</td>\n      <td>192.0</td>\n      <td>0.0</td>\n      <td>978.4</td>\n      <td>825.5</td>\n      <td>360</td>\n      <td>44.30</td>\n    </tr>\n  </tbody>\n</table>\n</div>",
                        "text/plain": "   Cement  Blast Furnace Slag  Fly Ash  Water  Superplasticizer  \\\n0   540.0                 0.0      0.0  162.0               2.5   \n1   540.0                 0.0      0.0  162.0               2.5   \n2   332.5               142.5      0.0  228.0               0.0   \n3   332.5               142.5      0.0  228.0               0.0   \n4   198.6               132.4      0.0  192.0               0.0   \n\n   Coarse Aggregate  Fine Aggregate  Age  Strength  \n0            1040.0           676.0   28     79.99  \n1            1055.0           676.0   28     61.89  \n2             932.0           594.0  270     40.27  \n3             932.0           594.0  365     41.05  \n4             978.4           825.5  360     44.30  "
                    },
                    "execution_count": 4,
                    "metadata": {},
                    "output_type": "execute_result"
                }
            ],
            "source": "concrete_data = df_data_1\nconcrete_data.head()"
        },
        {
            "cell_type": "code",
            "execution_count": 7,
            "metadata": {},
            "outputs": [
                {
                    "data": {
                        "text/html": "<div>\n<style scoped>\n    .dataframe tbody tr th:only-of-type {\n        vertical-align: middle;\n    }\n\n    .dataframe tbody tr th {\n        vertical-align: top;\n    }\n\n    .dataframe thead th {\n        text-align: right;\n    }\n</style>\n<table border=\"1\" class=\"dataframe\">\n  <thead>\n    <tr style=\"text-align: right;\">\n      <th></th>\n      <th>Cement</th>\n      <th>Blast Furnace Slag</th>\n      <th>Fly Ash</th>\n      <th>Water</th>\n      <th>Superplasticizer</th>\n      <th>Coarse Aggregate</th>\n      <th>Fine Aggregate</th>\n      <th>Age</th>\n      <th>Strength</th>\n    </tr>\n  </thead>\n  <tbody>\n    <tr>\n      <th>count</th>\n      <td>1030.000000</td>\n      <td>1030.000000</td>\n      <td>1030.000000</td>\n      <td>1030.000000</td>\n      <td>1030.000000</td>\n      <td>1030.000000</td>\n      <td>1030.000000</td>\n      <td>1030.000000</td>\n      <td>1030.000000</td>\n    </tr>\n    <tr>\n      <th>mean</th>\n      <td>281.167864</td>\n      <td>73.895825</td>\n      <td>54.188350</td>\n      <td>181.567282</td>\n      <td>6.204660</td>\n      <td>972.918932</td>\n      <td>773.580485</td>\n      <td>45.662136</td>\n      <td>35.817961</td>\n    </tr>\n    <tr>\n      <th>std</th>\n      <td>104.506364</td>\n      <td>86.279342</td>\n      <td>63.997004</td>\n      <td>21.354219</td>\n      <td>5.973841</td>\n      <td>77.753954</td>\n      <td>80.175980</td>\n      <td>63.169912</td>\n      <td>16.705742</td>\n    </tr>\n    <tr>\n      <th>min</th>\n      <td>102.000000</td>\n      <td>0.000000</td>\n      <td>0.000000</td>\n      <td>121.800000</td>\n      <td>0.000000</td>\n      <td>801.000000</td>\n      <td>594.000000</td>\n      <td>1.000000</td>\n      <td>2.330000</td>\n    </tr>\n    <tr>\n      <th>25%</th>\n      <td>192.375000</td>\n      <td>0.000000</td>\n      <td>0.000000</td>\n      <td>164.900000</td>\n      <td>0.000000</td>\n      <td>932.000000</td>\n      <td>730.950000</td>\n      <td>7.000000</td>\n      <td>23.710000</td>\n    </tr>\n    <tr>\n      <th>50%</th>\n      <td>272.900000</td>\n      <td>22.000000</td>\n      <td>0.000000</td>\n      <td>185.000000</td>\n      <td>6.400000</td>\n      <td>968.000000</td>\n      <td>779.500000</td>\n      <td>28.000000</td>\n      <td>34.445000</td>\n    </tr>\n    <tr>\n      <th>75%</th>\n      <td>350.000000</td>\n      <td>142.950000</td>\n      <td>118.300000</td>\n      <td>192.000000</td>\n      <td>10.200000</td>\n      <td>1029.400000</td>\n      <td>824.000000</td>\n      <td>56.000000</td>\n      <td>46.135000</td>\n    </tr>\n    <tr>\n      <th>max</th>\n      <td>540.000000</td>\n      <td>359.400000</td>\n      <td>200.100000</td>\n      <td>247.000000</td>\n      <td>32.200000</td>\n      <td>1145.000000</td>\n      <td>992.600000</td>\n      <td>365.000000</td>\n      <td>82.600000</td>\n    </tr>\n  </tbody>\n</table>\n</div>",
                        "text/plain": "            Cement  Blast Furnace Slag      Fly Ash        Water  \\\ncount  1030.000000         1030.000000  1030.000000  1030.000000   \nmean    281.167864           73.895825    54.188350   181.567282   \nstd     104.506364           86.279342    63.997004    21.354219   \nmin     102.000000            0.000000     0.000000   121.800000   \n25%     192.375000            0.000000     0.000000   164.900000   \n50%     272.900000           22.000000     0.000000   185.000000   \n75%     350.000000          142.950000   118.300000   192.000000   \nmax     540.000000          359.400000   200.100000   247.000000   \n\n       Superplasticizer  Coarse Aggregate  Fine Aggregate          Age  \\\ncount       1030.000000       1030.000000     1030.000000  1030.000000   \nmean           6.204660        972.918932      773.580485    45.662136   \nstd            5.973841         77.753954       80.175980    63.169912   \nmin            0.000000        801.000000      594.000000     1.000000   \n25%            0.000000        932.000000      730.950000     7.000000   \n50%            6.400000        968.000000      779.500000    28.000000   \n75%           10.200000       1029.400000      824.000000    56.000000   \nmax           32.200000       1145.000000      992.600000   365.000000   \n\n          Strength  \ncount  1030.000000  \nmean     35.817961  \nstd      16.705742  \nmin       2.330000  \n25%      23.710000  \n50%      34.445000  \n75%      46.135000  \nmax      82.600000  "
                    },
                    "execution_count": 7,
                    "metadata": {},
                    "output_type": "execute_result"
                }
            ],
            "source": "concrete_data.describe()"
        },
        {
            "cell_type": "code",
            "execution_count": 8,
            "metadata": {},
            "outputs": [],
            "source": "concrete_data_columns = concrete_data.columns\npredictors = concrete_data[concrete_data_columns[concrete_data_columns != 'Strength']] # all columns except Strength\ntarget = concrete_data['Strength'] # Strength column"
        },
        {
            "cell_type": "code",
            "execution_count": 11,
            "metadata": {
                "scrolled": true
            },
            "outputs": [
                {
                    "data": {
                        "text/html": "<div>\n<style scoped>\n    .dataframe tbody tr th:only-of-type {\n        vertical-align: middle;\n    }\n\n    .dataframe tbody tr th {\n        vertical-align: top;\n    }\n\n    .dataframe thead th {\n        text-align: right;\n    }\n</style>\n<table border=\"1\" class=\"dataframe\">\n  <thead>\n    <tr style=\"text-align: right;\">\n      <th></th>\n      <th>Cement</th>\n      <th>Blast Furnace Slag</th>\n      <th>Fly Ash</th>\n      <th>Water</th>\n      <th>Superplasticizer</th>\n      <th>Coarse Aggregate</th>\n      <th>Fine Aggregate</th>\n      <th>Age</th>\n    </tr>\n  </thead>\n  <tbody>\n    <tr>\n      <th>1025</th>\n      <td>276.4</td>\n      <td>116.0</td>\n      <td>90.3</td>\n      <td>179.6</td>\n      <td>8.9</td>\n      <td>870.1</td>\n      <td>768.3</td>\n      <td>28</td>\n    </tr>\n    <tr>\n      <th>1026</th>\n      <td>322.2</td>\n      <td>0.0</td>\n      <td>115.6</td>\n      <td>196.0</td>\n      <td>10.4</td>\n      <td>817.9</td>\n      <td>813.4</td>\n      <td>28</td>\n    </tr>\n    <tr>\n      <th>1027</th>\n      <td>148.5</td>\n      <td>139.4</td>\n      <td>108.6</td>\n      <td>192.7</td>\n      <td>6.1</td>\n      <td>892.4</td>\n      <td>780.0</td>\n      <td>28</td>\n    </tr>\n    <tr>\n      <th>1028</th>\n      <td>159.1</td>\n      <td>186.7</td>\n      <td>0.0</td>\n      <td>175.6</td>\n      <td>11.3</td>\n      <td>989.6</td>\n      <td>788.9</td>\n      <td>28</td>\n    </tr>\n    <tr>\n      <th>1029</th>\n      <td>260.9</td>\n      <td>100.5</td>\n      <td>78.3</td>\n      <td>200.6</td>\n      <td>8.6</td>\n      <td>864.5</td>\n      <td>761.5</td>\n      <td>28</td>\n    </tr>\n  </tbody>\n</table>\n</div>",
                        "text/plain": "      Cement  Blast Furnace Slag  Fly Ash  Water  Superplasticizer  \\\n1025   276.4               116.0     90.3  179.6               8.9   \n1026   322.2                 0.0    115.6  196.0              10.4   \n1027   148.5               139.4    108.6  192.7               6.1   \n1028   159.1               186.7      0.0  175.6              11.3   \n1029   260.9               100.5     78.3  200.6               8.6   \n\n      Coarse Aggregate  Fine Aggregate  Age  \n1025             870.1           768.3   28  \n1026             817.9           813.4   28  \n1027             892.4           780.0   28  \n1028             989.6           788.9   28  \n1029             864.5           761.5   28  "
                    },
                    "execution_count": 11,
                    "metadata": {},
                    "output_type": "execute_result"
                }
            ],
            "source": "predictors.tail()"
        },
        {
            "cell_type": "code",
            "execution_count": 12,
            "metadata": {},
            "outputs": [],
            "source": "n_cols = predictors.shape[1] # number of predictors"
        },
        {
            "cell_type": "markdown",
            "metadata": {},
            "source": "# A. Building a baseline model without data normalization"
        },
        {
            "cell_type": "code",
            "execution_count": 13,
            "metadata": {},
            "outputs": [
                {
                    "name": "stderr",
                    "output_type": "stream",
                    "text": "Using TensorFlow backend.\n"
                }
            ],
            "source": "import keras\nfrom keras.models import Sequential\nfrom keras.layers import Dense"
        },
        {
            "cell_type": "code",
            "execution_count": 14,
            "metadata": {},
            "outputs": [],
            "source": "from sklearn.model_selection import train_test_split\nX_train, X_test, y_train, y_test = train_test_split(predictors, target, test_size=0.3, random_state=42)"
        },
        {
            "cell_type": "code",
            "execution_count": 15,
            "metadata": {},
            "outputs": [],
            "source": "# define regression model\ndef regression_model():\n    # create model\n    model = Sequential()\n    model.add(Dense(10, activation='relu', input_shape=(n_cols,)))\n    model.add(Dense(1))\n    \n    # compile model\n    model.compile(optimizer='adam', loss='mean_squared_error')\n    return model"
        },
        {
            "cell_type": "code",
            "execution_count": 16,
            "metadata": {},
            "outputs": [
                {
                    "name": "stdout",
                    "output_type": "stream",
                    "text": "WARNING:tensorflow:From /opt/conda/envs/Python36/lib/python3.6/site-packages/tensorflow/python/framework/op_def_library.py:263: colocate_with (from tensorflow.python.framework.ops) is deprecated and will be removed in a future version.\nInstructions for updating:\nColocations handled automatically by placer.\n"
                }
            ],
            "source": "model = regression_model()"
        },
        {
            "cell_type": "code",
            "execution_count": 17,
            "metadata": {},
            "outputs": [
                {
                    "name": "stdout",
                    "output_type": "stream",
                    "text": "WARNING:tensorflow:From /opt/conda/envs/Python36/lib/python3.6/site-packages/tensorflow/python/ops/math_ops.py:3066: to_int32 (from tensorflow.python.ops.math_ops) is deprecated and will be removed in a future version.\nInstructions for updating:\nUse tf.cast instead.\nEpoch 1/50\n721/721 [==============================] - 1s 966us/step - loss: 92247.4995\nEpoch 2/50\n721/721 [==============================] - 0s 167us/step - loss: 20010.1646\nEpoch 3/50\n721/721 [==============================] - 0s 164us/step - loss: 5221.7138\nEpoch 4/50\n721/721 [==============================] - 0s 164us/step - loss: 4138.7335\nEpoch 5/50\n721/721 [==============================] - 0s 165us/step - loss: 3800.8042\nEpoch 6/50\n721/721 [==============================] - 0s 169us/step - loss: 3493.9679\nEpoch 7/50\n721/721 [==============================] - 0s 166us/step - loss: 3182.2755\nEpoch 8/50\n721/721 [==============================] - 0s 160us/step - loss: 2892.3154\nEpoch 9/50\n721/721 [==============================] - 0s 191us/step - loss: 2623.2156\nEpoch 10/50\n721/721 [==============================] - 0s 180us/step - loss: 2381.2594\nEpoch 11/50\n721/721 [==============================] - 0s 148us/step - loss: 2151.1068\nEpoch 12/50\n721/721 [==============================] - 0s 172us/step - loss: 1943.5207\nEpoch 13/50\n721/721 [==============================] - 0s 168us/step - loss: 1759.6144\nEpoch 14/50\n721/721 [==============================] - 0s 179us/step - loss: 1591.9908\nEpoch 15/50\n721/721 [==============================] - 0s 165us/step - loss: 1447.7956\nEpoch 16/50\n721/721 [==============================] - 0s 196us/step - loss: 1320.2885\nEpoch 17/50\n721/721 [==============================] - 0s 140us/step - loss: 1210.2021\nEpoch 18/50\n721/721 [==============================] - 0s 182us/step - loss: 1117.0245\nEpoch 19/50\n721/721 [==============================] - 0s 145us/step - loss: 1036.4390\nEpoch 20/50\n721/721 [==============================] - 0s 166us/step - loss: 962.8084\nEpoch 21/50\n721/721 [==============================] - 0s 169us/step - loss: 901.2948\nEpoch 22/50\n721/721 [==============================] - 0s 158us/step - loss: 848.8845\nEpoch 23/50\n721/721 [==============================] - 0s 165us/step - loss: 801.3999\nEpoch 24/50\n721/721 [==============================] - 0s 165us/step - loss: 758.3297\nEpoch 25/50\n721/721 [==============================] - 0s 161us/step - loss: 726.1199\nEpoch 26/50\n721/721 [==============================] - 0s 148us/step - loss: 690.9276\nEpoch 27/50\n721/721 [==============================] - 0s 174us/step - loss: 662.3201\nEpoch 28/50\n721/721 [==============================] - 0s 140us/step - loss: 638.2965\nEpoch 29/50\n721/721 [==============================] - 0s 159us/step - loss: 610.5247\nEpoch 30/50\n721/721 [==============================] - 0s 164us/step - loss: 590.0814\nEpoch 31/50\n721/721 [==============================] - 0s 172us/step - loss: 571.1615\nEpoch 32/50\n721/721 [==============================] - 0s 157us/step - loss: 552.9997\nEpoch 33/50\n721/721 [==============================] - 0s 169us/step - loss: 537.4084\nEpoch 34/50\n721/721 [==============================] - 0s 189us/step - loss: 522.0394\nEpoch 35/50\n721/721 [==============================] - 0s 146us/step - loss: 510.0812\nEpoch 36/50\n721/721 [==============================] - 0s 161us/step - loss: 497.8327\nEpoch 37/50\n721/721 [==============================] - 0s 188us/step - loss: 483.7692\nEpoch 38/50\n721/721 [==============================] - 0s 145us/step - loss: 473.6875\nEpoch 39/50\n721/721 [==============================] - 0s 167us/step - loss: 461.5108\nEpoch 40/50\n721/721 [==============================] - 0s 199us/step - loss: 450.5754\nEpoch 41/50\n721/721 [==============================] - 0s 156us/step - loss: 440.7471\nEpoch 42/50\n721/721 [==============================] - 0s 164us/step - loss: 432.5232\nEpoch 43/50\n721/721 [==============================] - 0s 166us/step - loss: 422.4240\nEpoch 44/50\n721/721 [==============================] - 0s 169us/step - loss: 414.3657\nEpoch 45/50\n721/721 [==============================] - 0s 165us/step - loss: 408.4760\nEpoch 46/50\n721/721 [==============================] - 0s 159us/step - loss: 397.8620\nEpoch 47/50\n721/721 [==============================] - 0s 147us/step - loss: 390.0277\nEpoch 48/50\n721/721 [==============================] - 0s 150us/step - loss: 381.7912\nEpoch 49/50\n721/721 [==============================] - 0s 156us/step - loss: 373.9351\nEpoch 50/50\n721/721 [==============================] - 0s 159us/step - loss: 367.7981\n"
                },
                {
                    "data": {
                        "text/plain": "<keras.callbacks.History at 0x7f240ab67e48>"
                    },
                    "execution_count": 17,
                    "metadata": {},
                    "output_type": "execute_result"
                }
            ],
            "source": "epochs = 50\nmodel.fit(X_train, y_train, epochs=epochs, verbose=1)"
        },
        {
            "cell_type": "code",
            "execution_count": 18,
            "metadata": {},
            "outputs": [
                {
                    "name": "stdout",
                    "output_type": "stream",
                    "text": "309/309 [==============================] - 0s 262us/step\nLoss Value 337.3526585649904\n"
                }
            ],
            "source": "loss_val = model.evaluate(X_test, y_test)\ny_pred = model.predict(X_test)\nprint('Loss Value', loss_val)"
        },
        {
            "cell_type": "code",
            "execution_count": 19,
            "metadata": {},
            "outputs": [],
            "source": "from sklearn.metrics import mean_squared_error"
        },
        {
            "cell_type": "code",
            "execution_count": 20,
            "metadata": {},
            "outputs": [
                {
                    "name": "stdout",
                    "output_type": "stream",
                    "text": "337.352654998626 0.0\n"
                }
            ],
            "source": "\nmean_square_error = mean_squared_error(y_test, y_pred)\nmean = np.mean(mean_square_error)\nstandard_deviation = np.std(mean_square_error)\nprint(mean, standard_deviation)"
        },
        {
            "cell_type": "code",
            "execution_count": 22,
            "metadata": {},
            "outputs": [
                {
                    "name": "stdout",
                    "output_type": "stream",
                    "text": "MSE 1: 47.422234075354915\nMSE 2: 63.409754854961506\nMSE 3: 51.94270822222565\nMSE 4: 53.22653408112264\nMSE 5: 69.12536235920435\nMSE 6: 53.40319787182854\nMSE 7: 58.85250523638185\nMSE 8: 45.65644821611423\nMSE 9: 53.236301409773844\nMSE 10: 55.27177814372535\nMSE 11: 47.33764868183815\nMSE 12: 47.33687313166251\nMSE 13: 53.91144258073233\nMSE 14: 51.13747094904335\nMSE 15: 48.55963476730396\nMSE 16: 41.35809423699734\nMSE 17: 49.109424208360196\nMSE 18: 49.51708023910769\nMSE 19: 47.68713502359236\nMSE 20: 48.34264735496546\nMSE 21: 49.596341969511656\nMSE 22: 46.217123074824755\nMSE 23: 50.584522506565726\nMSE 24: 52.54029026463579\nMSE 25: 50.12952952709013\nMSE 26: 51.01245813462341\nMSE 27: 63.07229125383988\nMSE 28: 47.29118138532422\nMSE 29: 50.187993071225854\nMSE 30: 51.80968173499246\nMSE 31: 46.54266673461519\nMSE 32: 43.95749191481705\nMSE 33: 44.49263844906705\nMSE 34: 48.85172160620828\nMSE 35: 43.42434502265214\nMSE 36: 50.12422150547064\nMSE 37: 51.30937601601808\nMSE 38: 49.28283477832584\nMSE 39: 46.955267045104385\nMSE 40: 41.21301116449548\nMSE 41: 56.122785808970626\nMSE 42: 45.13873514465529\nMSE 43: 44.88421747522447\nMSE 44: 57.412690715110806\nMSE 45: 59.753206617238064\nMSE 46: 61.52439438409404\nMSE 47: 49.37020487615592\nMSE 48: 54.59575267902856\nMSE 49: 50.280042333510316\nMSE 50: 48.72046265092868\n\n\nBelow is the mean and standard deviation of 50 mean squared errors. Total number of epochs for each training is: 50\n\nMean: 50.8448350289397\nStandard Deviation (SD): 5.663582801262753\n"
                }
            ],
            "source": "total_mean_squared_errors = 50\nepochs = 50\nmean_squared_errors = []\nfor i in range(0, total_mean_squared_errors):\n    X_train, X_test, y_train, y_test = train_test_split(predictors, target, test_size=0.3, random_state=i)\n    model.fit(X_train, y_train, epochs=epochs, verbose=0)\n    MSE = model.evaluate(X_test, y_test, verbose=0)\n    print(\"MSE \"+str(i+1)+\": \"+str(MSE))\n    y_pred = model.predict(X_test)\n    mean_square_error = mean_squared_error(y_test, y_pred)\n    mean_squared_errors.append(mean_square_error)\n\nmean_squared_errors = np.array(mean_squared_errors)\nmean = np.mean(mean_squared_errors)\nstandard_deviation = np.std(mean_squared_errors)\n\nprint('\\n')\nprint(\"Below is the mean and standard deviation of \" +str(total_mean_squared_errors) + \" mean squared errors. Total number of epochs for each training is: \" +str(epochs) + \"\\n\")\nprint(\"Mean: \"+str(mean))\nprint(\"Standard Deviation (SD): \"+str(standard_deviation))"
        },
        {
            "cell_type": "markdown",
            "metadata": {},
            "source": "# B. Building a baseline model with data normalization"
        },
        {
            "cell_type": "code",
            "execution_count": 23,
            "metadata": {},
            "outputs": [
                {
                    "data": {
                        "text/html": "<div>\n<style scoped>\n    .dataframe tbody tr th:only-of-type {\n        vertical-align: middle;\n    }\n\n    .dataframe tbody tr th {\n        vertical-align: top;\n    }\n\n    .dataframe thead th {\n        text-align: right;\n    }\n</style>\n<table border=\"1\" class=\"dataframe\">\n  <thead>\n    <tr style=\"text-align: right;\">\n      <th></th>\n      <th>Cement</th>\n      <th>Blast Furnace Slag</th>\n      <th>Fly Ash</th>\n      <th>Water</th>\n      <th>Superplasticizer</th>\n      <th>Coarse Aggregate</th>\n      <th>Fine Aggregate</th>\n      <th>Age</th>\n    </tr>\n  </thead>\n  <tbody>\n    <tr>\n      <th>0</th>\n      <td>2.476712</td>\n      <td>-0.856472</td>\n      <td>-0.846733</td>\n      <td>-0.916319</td>\n      <td>-0.620147</td>\n      <td>0.862735</td>\n      <td>-1.217079</td>\n      <td>-0.279597</td>\n    </tr>\n    <tr>\n      <th>1</th>\n      <td>2.476712</td>\n      <td>-0.856472</td>\n      <td>-0.846733</td>\n      <td>-0.916319</td>\n      <td>-0.620147</td>\n      <td>1.055651</td>\n      <td>-1.217079</td>\n      <td>-0.279597</td>\n    </tr>\n    <tr>\n      <th>2</th>\n      <td>0.491187</td>\n      <td>0.795140</td>\n      <td>-0.846733</td>\n      <td>2.174405</td>\n      <td>-1.038638</td>\n      <td>-0.526262</td>\n      <td>-2.239829</td>\n      <td>3.551340</td>\n    </tr>\n    <tr>\n      <th>3</th>\n      <td>0.491187</td>\n      <td>0.795140</td>\n      <td>-0.846733</td>\n      <td>2.174405</td>\n      <td>-1.038638</td>\n      <td>-0.526262</td>\n      <td>-2.239829</td>\n      <td>5.055221</td>\n    </tr>\n    <tr>\n      <th>4</th>\n      <td>-0.790075</td>\n      <td>0.678079</td>\n      <td>-0.846733</td>\n      <td>0.488555</td>\n      <td>-1.038638</td>\n      <td>0.070492</td>\n      <td>0.647569</td>\n      <td>4.976069</td>\n    </tr>\n  </tbody>\n</table>\n</div>",
                        "text/plain": "     Cement  Blast Furnace Slag   Fly Ash     Water  Superplasticizer  \\\n0  2.476712           -0.856472 -0.846733 -0.916319         -0.620147   \n1  2.476712           -0.856472 -0.846733 -0.916319         -0.620147   \n2  0.491187            0.795140 -0.846733  2.174405         -1.038638   \n3  0.491187            0.795140 -0.846733  2.174405         -1.038638   \n4 -0.790075            0.678079 -0.846733  0.488555         -1.038638   \n\n   Coarse Aggregate  Fine Aggregate       Age  \n0          0.862735       -1.217079 -0.279597  \n1          1.055651       -1.217079 -0.279597  \n2         -0.526262       -2.239829  3.551340  \n3         -0.526262       -2.239829  5.055221  \n4          0.070492        0.647569  4.976069  "
                    },
                    "execution_count": 23,
                    "metadata": {},
                    "output_type": "execute_result"
                }
            ],
            "source": "predictors_norm = (predictors - predictors.mean()) / predictors.std()\npredictors_norm.head()"
        },
        {
            "cell_type": "code",
            "execution_count": 24,
            "metadata": {},
            "outputs": [
                {
                    "data": {
                        "text/plain": "8"
                    },
                    "execution_count": 24,
                    "metadata": {},
                    "output_type": "execute_result"
                }
            ],
            "source": "n_cols = predictors_norm.shape[1] # number of predictors\nn_cols"
        },
        {
            "cell_type": "code",
            "execution_count": 25,
            "metadata": {},
            "outputs": [],
            "source": "X_train, X_test, y_train, y_test = train_test_split(predictors_norm, target, test_size=0.3, random_state=42)"
        },
        {
            "cell_type": "code",
            "execution_count": 26,
            "metadata": {},
            "outputs": [],
            "source": "model = regression_model()"
        },
        {
            "cell_type": "code",
            "execution_count": 27,
            "metadata": {},
            "outputs": [
                {
                    "name": "stdout",
                    "output_type": "stream",
                    "text": "Epoch 1/50\n - 1s - loss: 1491.9488\nEpoch 2/50\n - 0s - loss: 1473.3260\nEpoch 3/50\n - 0s - loss: 1453.8454\nEpoch 4/50\n - 0s - loss: 1433.1622\nEpoch 5/50\n - 0s - loss: 1411.3927\nEpoch 6/50\n - 0s - loss: 1388.3329\nEpoch 7/50\n - 0s - loss: 1364.0393\nEpoch 8/50\n - 0s - loss: 1338.5468\nEpoch 9/50\n - 0s - loss: 1311.8160\nEpoch 10/50\n - 0s - loss: 1283.7354\nEpoch 11/50\n - 0s - loss: 1254.7280\nEpoch 12/50\n - 0s - loss: 1224.3903\nEpoch 13/50\n - 0s - loss: 1193.1339\nEpoch 14/50\n - 0s - loss: 1160.8429\nEpoch 15/50\n - 0s - loss: 1128.3625\nEpoch 16/50\n - 0s - loss: 1094.2582\nEpoch 17/50\n - 0s - loss: 1060.0794\nEpoch 18/50\n - 0s - loss: 1025.2297\nEpoch 19/50\n - 0s - loss: 989.9199\nEpoch 20/50\n - 0s - loss: 954.2604\nEpoch 21/50\n - 0s - loss: 918.6281\nEpoch 22/50\n - 0s - loss: 882.8985\nEpoch 23/50\n - 0s - loss: 847.3297\nEpoch 24/50\n - 0s - loss: 812.8993\nEpoch 25/50\n - 0s - loss: 778.5673\nEpoch 26/50\n - 0s - loss: 745.0818\nEpoch 27/50\n - 0s - loss: 712.2139\nEpoch 28/50\n - 0s - loss: 680.6422\nEpoch 29/50\n - 0s - loss: 648.9861\nEpoch 30/50\n - 0s - loss: 619.4413\nEpoch 31/50\n - 0s - loss: 589.7815\nEpoch 32/50\n - 0s - loss: 562.5139\nEpoch 33/50\n - 0s - loss: 535.8879\nEpoch 34/50\n - 0s - loss: 510.0882\nEpoch 35/50\n - 0s - loss: 486.4354\nEpoch 36/50\n - 0s - loss: 463.2668\nEpoch 37/50\n - 0s - loss: 441.6973\nEpoch 38/50\n - 0s - loss: 421.2467\nEpoch 39/50\n - 0s - loss: 402.3079\nEpoch 40/50\n - 0s - loss: 384.4109\nEpoch 41/50\n - 0s - loss: 367.8542\nEpoch 42/50\n - 0s - loss: 352.5983\nEpoch 43/50\n - 0s - loss: 338.2345\nEpoch 44/50\n - 0s - loss: 324.7949\nEpoch 45/50\n - 0s - loss: 312.6583\nEpoch 46/50\n - 0s - loss: 301.4855\nEpoch 47/50\n - 0s - loss: 290.8153\nEpoch 48/50\n - 0s - loss: 281.4981\nEpoch 49/50\n - 0s - loss: 272.7077\nEpoch 50/50\n - 0s - loss: 264.8422\n"
                },
                {
                    "data": {
                        "text/plain": "<keras.callbacks.History at 0x7f23941f32e8>"
                    },
                    "execution_count": 27,
                    "metadata": {},
                    "output_type": "execute_result"
                }
            ],
            "source": "epochs = 50\nmodel.fit(X_train, y_train, epochs=epochs, verbose=2)"
        },
        {
            "cell_type": "code",
            "execution_count": 28,
            "metadata": {},
            "outputs": [
                {
                    "name": "stdout",
                    "output_type": "stream",
                    "text": "309/309 [==============================] - 0s 289us/step\nLoss Value 261.56612220936995\n"
                }
            ],
            "source": "loss_val = model.evaluate(X_test, y_test)\ny_pred = model.predict(X_test)\nprint('Loss Value', loss_val)"
        },
        {
            "cell_type": "code",
            "execution_count": 29,
            "metadata": {},
            "outputs": [
                {
                    "name": "stdout",
                    "output_type": "stream",
                    "text": "261.5661258557047 0.0\n"
                }
            ],
            "source": "mean_square_error = mean_squared_error(y_test, y_pred)\nmean = np.mean(mean_square_error)\nstandard_deviation = np.std(mean_square_error)\nprint(mean, standard_deviation)"
        },
        {
            "cell_type": "code",
            "execution_count": 30,
            "metadata": {},
            "outputs": [
                {
                    "name": "stdout",
                    "output_type": "stream",
                    "text": "MSE 1: 18203.224900131474\nMSE 2: 7709.692111018406\nMSE 3: 3030.275908139917\nMSE 4: 1233.9235952432873\nMSE 5: 618.1842011386908\nMSE 6: 319.48548469420007\nMSE 7: 175.82929787743825\nMSE 8: 118.86169487913064\nMSE 9: 121.86582694933253\nMSE 10: 112.94099416393293\nMSE 11: 102.53658218136883\nMSE 12: 100.49687930604016\nMSE 13: 119.74575697025435\nMSE 14: 115.93527932768886\nMSE 15: 108.92717476261473\nMSE 16: 106.21782294214736\nMSE 17: 105.12095602584888\nMSE 18: 120.20842992294953\nMSE 19: 99.32832326549543\nMSE 20: 114.72302967059188\nMSE 21: 100.05518995365279\nMSE 22: 102.53758516280783\nMSE 23: 118.54456072563492\nMSE 24: 110.53452036836\nMSE 25: 124.05976798542109\nMSE 26: 113.3068539517597\nMSE 27: 121.04847786418829\nMSE 28: 125.21606203344648\nMSE 29: 144.9832255539385\nMSE 30: 113.00892325589572\nMSE 31: 130.98991334785535\nMSE 32: 107.17848462965883\nMSE 33: 104.13326483174049\nMSE 34: 137.5728442244545\nMSE 35: 115.25572382362144\nMSE 36: 155.8078691797349\nMSE 37: 121.75787728812702\nMSE 38: 116.78812522024013\nMSE 39: 109.3483026992156\nMSE 40: 125.41935384312109\nMSE 41: 122.7879532996119\nMSE 42: 116.73512273004526\nMSE 43: 112.93798092345203\nMSE 44: 118.09184415749361\nMSE 45: 116.16201757535966\nMSE 46: 118.44066318647761\nMSE 47: 129.4566281019291\nMSE 48: 116.48113119872257\nMSE 49: 134.60628852720785\nMSE 50: 110.2017707701254\n\n\nBelow is the mean and standard deviation of 50 mean squared errors with normalized data. Total number of epochs for each training is: 50\n\nMean: 726.6194548581531\nStandard Deviation (SD): 2743.0451609470124\n"
                }
            ],
            "source": "total_mean_squared_errors = 50\nepochs = 50\nmean_squared_errors = []\nfor i in range(0, total_mean_squared_errors):\n    X_train, X_test, y_train, y_test = train_test_split(predictors, target, test_size=0.3, random_state=i)\n    model.fit(X_train, y_train, epochs=epochs, verbose=0)\n    MSE = model.evaluate(X_test, y_test, verbose=0)\n    print(\"MSE \"+str(i+1)+\": \"+str(MSE))\n    y_pred = model.predict(X_test)\n    mean_square_error = mean_squared_error(y_test, y_pred)\n    mean_squared_errors.append(mean_square_error)\n\nmean_squared_errors = np.array(mean_squared_errors)\nmean = np.mean(mean_squared_errors)\nstandard_deviation = np.std(mean_squared_errors)\n\nprint('\\n')\nprint(\"Below is the mean and standard deviation of \" +str(total_mean_squared_errors) + \" mean squared errors with normalized data. Total number of epochs for each training is: \" +str(epochs) + \"\\n\")\nprint(\"Mean: \"+str(mean))\nprint(\"Standard Deviation (SD): \"+str(standard_deviation))"
        },
        {
            "cell_type": "markdown",
            "metadata": {},
            "source": "# C. Repeating Part B but using 100 epochs this time for training."
        },
        {
            "cell_type": "code",
            "execution_count": 31,
            "metadata": {},
            "outputs": [
                {
                    "name": "stdout",
                    "output_type": "stream",
                    "text": "MSE 1: 161.30113457244576\nMSE 2: 128.27107125192785\nMSE 3: 109.38452602744488\nMSE 4: 126.63879732792431\nMSE 5: 132.17375385568366\nMSE 6: 113.14846144987928\nMSE 7: 136.54701277353232\nMSE 8: 101.46527869956007\nMSE 9: 122.86336687699105\nMSE 10: 114.47951717438436\nMSE 11: 103.46145516306065\nMSE 12: 103.91993533137547\nMSE 13: 121.30757827511883\nMSE 14: 116.38890915163898\nMSE 15: 121.22135846283058\nMSE 16: 110.25251671257142\nMSE 17: 119.74639166674568\nMSE 18: 103.29102229146125\nMSE 19: 94.94817569572177\nMSE 20: 114.60492881602069\nMSE 21: 97.09443467026004\nMSE 22: 110.01318630971569\nMSE 23: 118.67889295658247\nMSE 24: 103.98356107446368\nMSE 25: 108.55441103938328\nMSE 26: 116.05230599313877\nMSE 27: 126.9699504568353\nMSE 28: 110.81635351088441\nMSE 29: 111.69704022453827\nMSE 30: 119.51491702181622\nMSE 31: 137.47791922362492\nMSE 32: 107.18926668630063\nMSE 33: 121.918539596607\nMSE 34: 109.9912330108939\nMSE 35: 121.8705096692329\nMSE 36: 128.00456827898242\nMSE 37: 122.86976697606949\nMSE 38: 126.89976227399215\nMSE 39: 114.31580160196545\nMSE 40: 117.72182610274133\nMSE 41: 119.93004269893116\nMSE 42: 112.04656355280706\nMSE 43: 110.0467326340166\nMSE 44: 112.3507886966841\nMSE 45: 115.55310048717512\nMSE 46: 114.69710565462081\nMSE 47: 126.12383104836671\nMSE 48: 119.71589976684176\nMSE 49: 102.3078780189687\nMSE 50: 114.67098221269626\n\n\nBelow is the mean and standard deviation of 50 mean squared errors with normalized data. Total number of epochs for each training is: 100\n\nMean: 116.68984685392321\nStandard Deviation (SD): 11.33755171877719\n"
                }
            ],
            "source": "total_mean_squared_errors = 50\nepochs = 100\nmean_squared_errors = []\nfor i in range(0, total_mean_squared_errors):\n    X_train, X_test, y_train, y_test = train_test_split(predictors, target, test_size=0.3, random_state=i)\n    model.fit(X_train, y_train, epochs=epochs, verbose=0)\n    MSE = model.evaluate(X_test, y_test, verbose=0)\n    print(\"MSE \"+str(i+1)+\": \"+str(MSE))\n    y_pred = model.predict(X_test)\n    mean_square_error = mean_squared_error(y_test, y_pred)\n    mean_squared_errors.append(mean_square_error)\n\nmean_squared_errors = np.array(mean_squared_errors)\nmean = np.mean(mean_squared_errors)\nstandard_deviation = np.std(mean_squared_errors)\n\nprint('\\n')\nprint(\"Below is the mean and standard deviation of \" +str(total_mean_squared_errors) + \" mean squared errors with normalized data. Total number of epochs for each training is: \" +str(epochs) + \"\\n\")\nprint(\"Mean: \"+str(mean))\nprint(\"Standard Deviation (SD): \"+str(standard_deviation))"
        },
        {
            "cell_type": "markdown",
            "metadata": {},
            "source": "# D. Repeating part B but using a neural network with: Three hidden layers, each of 10 nodes and ReLU activation function."
        },
        {
            "cell_type": "code",
            "execution_count": 32,
            "metadata": {},
            "outputs": [],
            "source": "# define regression model\ndef regression_model():\n    # create model\n    model = Sequential()\n    model.add(Dense(10, activation='relu', input_shape=(n_cols,)))\n    model.add(Dense(10, activation='relu'))\n    model.add(Dense(10, activation='relu'))\n    model.add(Dense(1))\n    \n    # compile model\n    model.compile(optimizer='adam', loss='mean_squared_error')\n    return model"
        },
        {
            "cell_type": "code",
            "execution_count": 33,
            "metadata": {},
            "outputs": [],
            "source": "model=regression_model()"
        },
        {
            "cell_type": "code",
            "execution_count": 34,
            "metadata": {},
            "outputs": [
                {
                    "name": "stdout",
                    "output_type": "stream",
                    "text": "Epoch 1/50\n - 1s - loss: 648.4791\nEpoch 2/50\n - 0s - loss: 268.3521\nEpoch 3/50\n - 0s - loss: 249.6963\nEpoch 4/50\n - 0s - loss: 231.0292\nEpoch 5/50\n - 0s - loss: 216.6743\nEpoch 6/50\n - 0s - loss: 205.1338\nEpoch 7/50\n - 0s - loss: 202.8808\nEpoch 8/50\n - 0s - loss: 188.6977\nEpoch 9/50\n - 0s - loss: 180.9398\nEpoch 10/50\n - 0s - loss: 169.6254\nEpoch 11/50\n - 0s - loss: 161.9267\nEpoch 12/50\n - 0s - loss: 156.4026\nEpoch 13/50\n - 0s - loss: 149.9196\nEpoch 14/50\n - 0s - loss: 141.4191\nEpoch 15/50\n - 0s - loss: 137.2968\nEpoch 16/50\n - 0s - loss: 132.3949\nEpoch 17/50\n - 0s - loss: 128.7793\nEpoch 18/50\n - 0s - loss: 124.2446\nEpoch 19/50\n - 0s - loss: 122.4991\nEpoch 20/50\n - 0s - loss: 121.1636\nEpoch 21/50\n - 0s - loss: 116.9792\nEpoch 22/50\n - 0s - loss: 118.1384\nEpoch 23/50\n - 0s - loss: 114.9001\nEpoch 24/50\n - 0s - loss: 111.3157\nEpoch 25/50\n - 0s - loss: 104.8561\nEpoch 26/50\n - 0s - loss: 101.4775\nEpoch 27/50\n - 0s - loss: 100.2227\nEpoch 28/50\n - 0s - loss: 96.7320\nEpoch 29/50\n - 0s - loss: 95.2467\nEpoch 30/50\n - 0s - loss: 92.5349\nEpoch 31/50\n - 0s - loss: 89.7793\nEpoch 32/50\n - 0s - loss: 87.2195\nEpoch 33/50\n - 0s - loss: 87.8203\nEpoch 34/50\n - 0s - loss: 85.9251\nEpoch 35/50\n - 0s - loss: 85.9060\nEpoch 36/50\n - 0s - loss: 81.9325\nEpoch 37/50\n - 0s - loss: 86.2890\nEpoch 38/50\n - 0s - loss: 81.0551\nEpoch 39/50\n - 0s - loss: 78.9679\nEpoch 40/50\n - 0s - loss: 78.2740\nEpoch 41/50\n - 0s - loss: 74.8587\nEpoch 42/50\n - 0s - loss: 77.5437\nEpoch 43/50\n - 0s - loss: 74.0770\nEpoch 44/50\n - 0s - loss: 75.9146\nEpoch 45/50\n - 0s - loss: 77.2956\nEpoch 46/50\n - 0s - loss: 73.5896\nEpoch 47/50\n - 0s - loss: 71.6338\nEpoch 48/50\n - 0s - loss: 71.0302\nEpoch 49/50\n - 0s - loss: 70.9906\nEpoch 50/50\n - 0s - loss: 69.1010\n"
                },
                {
                    "data": {
                        "text/plain": "<keras.callbacks.History at 0x7f23702989b0>"
                    },
                    "execution_count": 34,
                    "metadata": {},
                    "output_type": "execute_result"
                }
            ],
            "source": "# fit the model\nepochs = 50\nmodel.fit(X_train, y_train, epochs=epochs, verbose=2)"
        },
        {
            "cell_type": "code",
            "execution_count": 35,
            "metadata": {},
            "outputs": [
                {
                    "name": "stdout",
                    "output_type": "stream",
                    "text": "309/309 [==============================] - 0s 562us/step\nLoss Value 77.42022691498296\n"
                }
            ],
            "source": "loss_val = model.evaluate(X_test, y_test)\ny_pred = model.predict(X_test)\nprint('Loss Value', loss_val)"
        },
        {
            "cell_type": "code",
            "execution_count": 36,
            "metadata": {},
            "outputs": [
                {
                    "name": "stdout",
                    "output_type": "stream",
                    "text": "77.4202273804876 0.0\n"
                }
            ],
            "source": "\nmean_square_error = mean_squared_error(y_test, y_pred)\nmean = np.mean(mean_square_error)\nstandard_deviation = np.std(mean_square_error)\nprint(mean, standard_deviation)"
        },
        {
            "cell_type": "code",
            "execution_count": 37,
            "metadata": {},
            "outputs": [
                {
                    "name": "stdout",
                    "output_type": "stream",
                    "text": "MSE 1: 53.43551696234151\nMSE 2: 72.60867310804842\nMSE 3: 48.4912359675929\nMSE 4: 45.19641070072705\nMSE 5: 48.70440183719771\nMSE 6: 49.74897153786471\nMSE 7: 53.86578690118388\nMSE 8: 41.90368883818098\nMSE 9: 41.10442056007756\nMSE 10: 64.75912115103219\nMSE 11: 39.11513676072401\nMSE 12: 38.669115813418884\nMSE 13: 46.70611118575901\nMSE 14: 49.043826600108716\nMSE 15: 42.45264144699936\nMSE 16: 33.24004824493309\nMSE 17: 46.934816922184716\nMSE 18: 42.10677471592974\nMSE 19: 35.29615166426476\nMSE 20: 45.45215598047744\nMSE 21: 39.761145039283726\nMSE 22: 45.28575965115939\nMSE 23: 40.84125887923256\nMSE 24: 39.534326448409686\nMSE 25: 42.71645815086982\nMSE 26: 42.04188159831519\nMSE 27: 42.91090296773077\nMSE 28: 41.92156375033184\nMSE 29: 43.599250571241654\nMSE 30: 41.47029880412574\nMSE 31: 45.84118927643909\nMSE 32: 32.32676726406061\nMSE 33: 34.34753827832663\nMSE 34: 38.748631190327764\nMSE 35: 39.47732262472505\nMSE 36: 41.59739881348841\nMSE 37: 41.22709396510448\nMSE 38: 46.745761562705425\nMSE 39: 38.095392196309604\nMSE 40: 34.698996658078286\nMSE 41: 44.1357061515734\nMSE 42: 36.986591697124986\nMSE 43: 38.071351430948496\nMSE 44: 45.36121502971958\nMSE 45: 42.48751463164789\nMSE 46: 43.11488237350118\nMSE 47: 40.02305519079313\nMSE 48: 39.43482440343567\nMSE 49: 39.99325972621881\nMSE 50: 43.27581700692285\n\n\nBelow is the mean and standard deviation of 50 mean squared errors with normalized data. Total number of epochs for each training is: 50\n\nMean: 43.29816330683869\nStandard Deviation (SD): 6.966785584770492\n"
                }
            ],
            "source": "total_mean_squared_errors = 50\nepochs = 50\nmean_squared_errors = []\nfor i in range(0, total_mean_squared_errors):\n    X_train, X_test, y_train, y_test = train_test_split(predictors, target, test_size=0.3, random_state=i)\n    model.fit(X_train, y_train, epochs=epochs, verbose=0)\n    MSE = model.evaluate(X_test, y_test, verbose=0)\n    print(\"MSE \"+str(i+1)+\": \"+str(MSE))\n    y_pred = model.predict(X_test)\n    mean_square_error = mean_squared_error(y_test, y_pred)\n    mean_squared_errors.append(mean_square_error)\n\nmean_squared_errors = np.array(mean_squared_errors)\nmean = np.mean(mean_squared_errors)\nstandard_deviation = np.std(mean_squared_errors)\n\nprint('\\n')\nprint(\"Below is the mean and standard deviation of \" +str(total_mean_squared_errors) + \" mean squared errors with normalized data. Total number of epochs for each training is: \" +str(epochs) + \"\\n\")\nprint(\"Mean: \"+str(mean))\nprint(\"Standard Deviation (SD): \"+str(standard_deviation))"
        },
        {
            "cell_type": "code",
            "execution_count": null,
            "metadata": {},
            "outputs": [],
            "source": ""
        },
        {
            "cell_type": "code",
            "execution_count": null,
            "metadata": {},
            "outputs": [],
            "source": ""
        }
    ],
    "metadata": {
        "kernelspec": {
            "display_name": "Python 3.6",
            "language": "python",
            "name": "python3"
        },
        "language_info": {
            "codemirror_mode": {
                "name": "ipython",
                "version": 3
            },
            "file_extension": ".py",
            "mimetype": "text/x-python",
            "name": "python",
            "nbconvert_exporter": "python",
            "pygments_lexer": "ipython3",
            "version": "3.6.9"
        }
    },
    "nbformat": 4,
    "nbformat_minor": 1
}